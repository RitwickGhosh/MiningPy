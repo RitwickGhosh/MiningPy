{
  "cells": [
    {
      "cell_type": "code",
      "execution_count": null,
      "metadata": {
        "execution": {
          "iopub.execute_input": "2021-01-31T12:26:58.915805Z",
          "iopub.status.busy": "2021-01-31T12:26:58.913288Z",
          "iopub.status.idle": "2021-01-31T12:27:00.667544Z",
          "shell.execute_reply": "2021-01-31T12:27:00.666882Z"
        },
        "papermill": {
          "duration": 1.767077,
          "end_time": "2021-01-31T12:27:00.667684",
          "exception": false,
          "start_time": "2021-01-31T12:26:58.900607",
          "status": "completed"
        },
        "tags": [],
        "id": "RC2nU7ezfhsI"
      },
      "outputs": [],
      "source": [
        "import numpy as np\n",
        "from sympy import symbols, solve\n",
        "import matplotlib.pyplot as plt\n",
        "from astropy.table import Table\n",
        "import random\n",
        "\n",
        "\n",
        "plt.style.use('seaborn-darkgrid')"
      ]
    },
    {
      "cell_type": "code",
      "execution_count": null,
      "metadata": {
        "execution": {
          "iopub.execute_input": "2021-01-31T12:27:00.692963Z",
          "iopub.status.busy": "2021-01-31T12:27:00.691987Z",
          "iopub.status.idle": "2021-01-31T12:27:00.695646Z",
          "shell.execute_reply": "2021-01-31T12:27:00.694932Z"
        },
        "papermill": {
          "duration": 0.018733,
          "end_time": "2021-01-31T12:27:00.695760",
          "exception": false,
          "start_time": "2021-01-31T12:27:00.677027",
          "status": "completed"
        },
        "tags": [],
        "id": "6-mCZax7fhsI"
      },
      "outputs": [],
      "source": [
        "Pillar_Load = lambda C,H,W,Wc : C*H*(W+Wc)/W\n",
        "PillarSt_Mark = lambda wh : 6.205*(0.64+(0.54*wh))\n",
        "PillarSt_CSIRO = lambda wh : 6*(0.64+0.36*(0.69+0.44*wh)*wh)\n"
      ]
    },
    {
      "cell_type": "code",
      "execution_count": null,
      "metadata": {
        "execution": {
          "iopub.execute_input": "2021-01-31T12:27:00.723572Z",
          "iopub.status.busy": "2021-01-31T12:27:00.722472Z",
          "iopub.status.idle": "2021-01-31T12:27:00.735036Z",
          "shell.execute_reply": "2021-01-31T12:27:00.734447Z"
        },
        "papermill": {
          "duration": 0.030409,
          "end_time": "2021-01-31T12:27:00.735161",
          "exception": false,
          "start_time": "2021-01-31T12:27:00.704752",
          "status": "completed"
        },
        "tags": [],
        "id": "XNQXdszzfhsI"
      },
      "outputs": [],
      "source": [
        "def Pillar_Strength(wh, formula =[], name =[]):\n",
        "    S=[]\n",
        "    i=0\n",
        "    while (i<len(formula)):\n",
        "        s= formula[i](wh)\n",
        "        S.append(s)\n",
        "        print (\"Pillar Strength for\", name[i],\":\",s)\n",
        "        i=i+1\n",
        "    return S;\n",
        "\n",
        "def FoS_calculate(P,wh,formula=[],name=[]):\n",
        "    S = Pillar_Strength(wh, formula, name)\n",
        "    FoS=[]\n",
        "    i=0\n",
        "    while (i<len(formula)):\n",
        "        f = S[i]/P\n",
        "        FoS.append(f)\n",
        "        print (\"FoS for\", name[i],\":\",f)\n",
        "        i=i+1\n",
        "    return FoS,S,name;\n",
        "\n",
        "def wh_calculate(P,FoS,formula=[],name=[]):\n",
        "    S= P*FoS\n",
        "    w =symbols('w')\n",
        "    wh=[]\n",
        "    i=0\n",
        "    while (i<len(formula)):\n",
        "        sn=solve (formula[i](w)-S,w)\n",
        "        def largest(a,n):\n",
        "            max=a[0]\n",
        "            for i in range(1,n):\n",
        "                if a[i]>max:\n",
        "                    max = a[i]\n",
        "            return max;\n",
        "        n=len(sn)\n",
        "        sol = largest(sn,n)\n",
        "        wh.append(sol)\n",
        "        print (\"w/h ratio for\", name[i],\":\",sol)\n",
        "        i=i+1\n",
        "    return FoS,S,name;"
      ]
    },
    {
      "cell_type": "code",
      "execution_count": null,
      "metadata": {
        "execution": {
          "iopub.execute_input": "2021-01-31T12:27:00.770759Z",
          "iopub.status.busy": "2021-01-31T12:27:00.769791Z",
          "iopub.status.idle": "2021-01-31T12:27:00.773502Z",
          "shell.execute_reply": "2021-01-31T12:27:00.772739Z"
        },
        "papermill": {
          "duration": 0.029245,
          "end_time": "2021-01-31T12:27:00.773641",
          "exception": false,
          "start_time": "2021-01-31T12:27:00.744396",
          "status": "completed"
        },
        "tags": [],
        "id": "a4Jsn2NCfhsI"
      },
      "outputs": [],
      "source": [
        "\n",
        "def FoS_Range(P,FoS_max, FoS_min, interval,formula,name):\n",
        "    n = (FoS_max-FoS_min)/interval\n",
        "    a =FoS_min\n",
        "    F=[FoS_min]\n",
        "    i=0\n",
        "    while(i<n):\n",
        "        a= a+interval\n",
        "        F.append(a)\n",
        "        i=i+1\n",
        "    S=[]\n",
        "    i=0\n",
        "    while(i<n+1):\n",
        "        b=P*F[i]\n",
        "        S.append(b)\n",
        "        i=i+1\n",
        "    wh =[]\n",
        "    w =symbols('w')\n",
        "    i=0\n",
        "    while(i<(n+1)):\n",
        "        sni=solve (formula[0](w)-S[i],w)\n",
        "        def largest(a,ni):\n",
        "            max=a[0]\n",
        "            for y in range(0,ni):\n",
        "                if a[y]>max:\n",
        "                    max = a[y]\n",
        "            return max;\n",
        "        ni=len(sni)\n",
        "        sol = largest(sni,ni)\n",
        "        wh.append(sol)\n",
        "        i=i+1\n",
        "    wh=np.asarray(wh)\n",
        "    F=np.asarray(F)\n",
        "    wh.astype(int)\n",
        "    F.astype(int)\n",
        "    plt.style.use('seaborn-darkgrid')\n",
        "    #plt.figure(figsize=())\n",
        "    plt.plot(F,wh,'r^')\n",
        "    plt.xlabel(\"FoS\")\n",
        "    plt.ylabel(name)\n",
        "    t = Table([F,wh],names=('FoS',name))\n",
        "    print(t)\n",
        "    return t,F,wh;\n"
      ]
    },
    {
      "cell_type": "code",
      "execution_count": 1,
      "metadata": {
        "execution": {
          "iopub.execute_input": "2021-01-31T12:27:00.803689Z",
          "iopub.status.busy": "2021-01-31T12:27:00.802995Z",
          "iopub.status.idle": "2021-01-31T12:27:00.811880Z",
          "shell.execute_reply": "2021-01-31T12:27:00.812345Z"
        },
        "papermill": {
          "duration": 0.029476,
          "end_time": "2021-01-31T12:27:00.812503",
          "exception": false,
          "start_time": "2021-01-31T12:27:00.783027",
          "status": "completed"
        },
        "tags": [],
        "id": "ZhMEImWUfhsI"
      },
      "outputs": [],
      "source": [
        "def FoS_wh_Range(P,FoS_max, FoS_min, interval,wh_max,wh_min,formula,name):\n",
        "    n = (FoS_max-FoS_min)/interval\n",
        "    a =FoS_min\n",
        "    F=[FoS_min]\n",
        "    i=0\n",
        "    while(i<n):\n",
        "        a= a+interval\n",
        "        F.append(a)\n",
        "        i=i+1\n",
        "    S=[]\n",
        "    i=0\n",
        "    while(i<n+1):\n",
        "        b=P*F[i]\n",
        "        S.append(b)\n",
        "        i=i+1\n",
        "    wh =[]\n",
        "    w =symbols('w')\n",
        "    i=0\n",
        "    while(i<(n+1)):\n",
        "        sni=solve (formula[0](w)-S[i],w)\n",
        "        def largest(a,ni):\n",
        "            max=a[0]\n",
        "            for y in range(0,ni):\n",
        "                if a[y]>max:\n",
        "                    max = a[y]\n",
        "            return max;\n",
        "        ni=len(sni)\n",
        "        sol = largest(sni,ni)\n",
        "        wh.append(sol)\n",
        "        i=i+1\n",
        "    wh=np.asarray(wh)\n",
        "    F=np.asarray(F)\n",
        "    wh.astype(int)\n",
        "    F.astype(int)\n",
        "    w=np.delete(wh,np.argwhere(wh>=wh_max))\n",
        "    F1=np.delete(F,np.argwhere(wh>=wh_max))\n",
        "    w=np.delete(w,np.argwhere(wh<=wh_min))\n",
        "    F=np.delete(F1,np.argwhere(wh<=wh_min))\n",
        "    np.savetxt('/content/FoS_vs_w:h_ratio.csv', np.vstack([F,w]).transpose(), delimiter=',', header='FoS,w/h_ratio', comments='')\n",
        "    plt.style.use('seaborn-darkgrid')\n",
        "    #plt.figure(figsize=())\n",
        "    plt.plot(F,w,'r^')\n",
        "    plt.xlabel(\"FoS\")\n",
        "    plt.ylabel(name)\n",
        "    t = Table([F,w],names=('FoS',name))\n",
        "    print(t)\n",
        "    return t,F,w;"
      ]
    },
    {
      "cell_type": "code",
      "execution_count": null,
      "metadata": {
        "execution": {
          "iopub.execute_input": "2021-01-31T12:27:00.835409Z",
          "iopub.status.busy": "2021-01-31T12:27:00.834366Z",
          "iopub.status.idle": "2021-01-31T12:27:00.844866Z",
          "shell.execute_reply": "2021-01-31T12:27:00.845366Z"
        },
        "papermill": {
          "duration": 0.023473,
          "end_time": "2021-01-31T12:27:00.845502",
          "exception": false,
          "start_time": "2021-01-31T12:27:00.822029",
          "status": "completed"
        },
        "tags": [],
        "colab": {
          "base_uri": "https://localhost:8080/"
        },
        "id": "Q80Tr_C1fhsI",
        "outputId": "8ef2d3d9-aeb5-4481-fa85-62505f4f789e"
      },
      "outputs": [
        {
          "output_type": "stream",
          "name": "stdout",
          "text": [
            "w/h ratio (hint : 2) : 2\n",
            "Pillar Strength for USA : 10.672600000000001\n",
            "Pillar Strength for AUS : 10.622399999999999\n"
          ]
        },
        {
          "output_type": "execute_result",
          "data": {
            "text/plain": [
              "[10.672600000000001, 10.622399999999999]"
            ]
          },
          "metadata": {},
          "execution_count": 24
        }
      ],
      "source": [
        "wh = float(input(\"w/h ratio (hint : 2) : \"))\n",
        "Pillar_Strength(wh=wh,formula=[PillarSt_Mark,PillarSt_CSIRO], name =[\"USA\",\"AUS\"])"
      ]
    },
    {
      "cell_type": "code",
      "execution_count": null,
      "metadata": {
        "execution": {
          "iopub.execute_input": "2021-01-31T12:27:00.870416Z",
          "iopub.status.busy": "2021-01-31T12:27:00.869402Z",
          "iopub.status.idle": "2021-01-31T12:27:00.879488Z",
          "shell.execute_reply": "2021-01-31T12:27:00.880231Z"
        },
        "papermill": {
          "duration": 0.024411,
          "end_time": "2021-01-31T12:27:00.880421",
          "exception": false,
          "start_time": "2021-01-31T12:27:00.856010",
          "status": "completed"
        },
        "tags": [],
        "colab": {
          "base_uri": "https://localhost:8080/"
        },
        "id": "NfOq_2IvfhsI",
        "outputId": "613159e2-3749-461c-d002-1cfe63e6782f"
      },
      "outputs": [
        {
          "output_type": "stream",
          "name": "stdout",
          "text": [
            "w/h ratio (hint : 2) : 2\n",
            "Pillar Load in MPa (hint : 9) : 9\n",
            "Pillar Strength for USA : 10.672600000000001\n",
            "Pillar Strength for AUS : 10.622399999999999\n",
            "FoS for USA : 1.1858444444444445\n",
            "FoS for AUS : 1.1802666666666666\n"
          ]
        },
        {
          "output_type": "execute_result",
          "data": {
            "text/plain": [
              "([1.1858444444444445, 1.1802666666666666],\n",
              " [10.672600000000001, 10.622399999999999],\n",
              " ['USA', 'AUS'])"
            ]
          },
          "metadata": {},
          "execution_count": 25
        }
      ],
      "source": [
        "wh = float(input(\"w/h ratio (hint : 2) : \"))\n",
        "P = float(input(\"Pillar Load in MPa (hint : 9) : \"))\n",
        "\n",
        "FoS_calculate(P=P,wh=wh,formula=[PillarSt_Mark,PillarSt_CSIRO], name =[\"USA\",\"AUS\"])"
      ]
    },
    {
      "cell_type": "code",
      "execution_count": null,
      "metadata": {
        "execution": {
          "iopub.execute_input": "2021-01-31T12:27:00.906260Z",
          "iopub.status.busy": "2021-01-31T12:27:00.905658Z",
          "iopub.status.idle": "2021-01-31T12:27:01.553373Z",
          "shell.execute_reply": "2021-01-31T12:27:01.552812Z"
        },
        "papermill": {
          "duration": 0.661485,
          "end_time": "2021-01-31T12:27:01.553495",
          "exception": false,
          "start_time": "2021-01-31T12:27:00.892010",
          "status": "completed"
        },
        "tags": [],
        "colab": {
          "base_uri": "https://localhost:8080/"
        },
        "id": "1dvTT7rpfhsI",
        "outputId": "c366de33-e90a-4a2d-8574-4431367b16ee"
      },
      "outputs": [
        {
          "output_type": "stream",
          "name": "stdout",
          "text": [
            "FoS (hint : 1.2) : 1.2\n",
            "Pillar Load in MPa (hint : 9) : 9\n",
            "w/h ratio for USA : 2.03802190587042\n",
            "w/h ratio for AUS : 2.03336022215367\n"
          ]
        },
        {
          "output_type": "execute_result",
          "data": {
            "text/plain": [
              "(1.2, 10.799999999999999, ['USA', 'AUS'])"
            ]
          },
          "metadata": {},
          "execution_count": 26
        }
      ],
      "source": [
        "FoS = float(input(\"FoS (hint : 1.2) : \"))\n",
        "P = float(input(\"Pillar Load in MPa (hint : 9) : \"))\n",
        "\n",
        "wh_calculate(P=P,FoS=FoS,formula=[PillarSt_Mark,PillarSt_CSIRO], name =[\"USA\",\"AUS\"])"
      ]
    },
    {
      "cell_type": "code",
      "execution_count": null,
      "metadata": {
        "execution": {
          "iopub.execute_input": "2021-01-31T12:27:01.619062Z",
          "iopub.status.busy": "2021-01-31T12:27:01.614005Z",
          "iopub.status.idle": "2021-01-31T12:27:03.469848Z",
          "shell.execute_reply": "2021-01-31T12:27:03.470314Z"
        },
        "papermill": {
          "duration": 1.903965,
          "end_time": "2021-01-31T12:27:03.470479",
          "exception": false,
          "start_time": "2021-01-31T12:27:01.566514",
          "status": "completed"
        },
        "tags": [],
        "colab": {
          "base_uri": "https://localhost:8080/",
          "height": 1000
        },
        "id": "Y6V_ucvzfhsI",
        "outputId": "451b7665-c1f8-4b4e-a043-ab1fedcd6e25"
      },
      "outputs": [
        {
          "output_type": "stream",
          "name": "stdout",
          "text": [
            "Pillar Load in MPa (hint : 9) : 9\n",
            "Maximum FoS Limit (hint : 3) : 3\n",
            "Minimum FoS Limit (hint : 0.5) : 0.5\n",
            "Interval of FoS to calculate (hint : 0.1) : 0.1\n",
            "       FoS           USA w/h ratio  \n",
            "------------------ -----------------\n",
            "               0.5 0.157817769421315\n",
            "               0.6 0.426418360342615\n",
            "               0.7 0.695018951263915\n",
            "0.7999999999999999 0.963619542185215\n",
            "0.8999999999999999  1.23222013310652\n",
            "0.9999999999999999  1.50082072402782\n",
            "1.0999999999999999  1.76942131494912\n",
            "               1.2  2.03802190587042\n",
            "               1.3  2.30662249679172\n",
            "1.4000000000000001  2.57522308771302\n",
            "               ...               ...\n",
            "2.0000000000000004  4.18682663324082\n",
            "2.1000000000000005  4.45542722416212\n",
            "2.2000000000000006  4.72402781508342\n",
            "2.3000000000000007  4.99262840600472\n",
            " 2.400000000000001  5.26122899692602\n",
            " 2.500000000000001  5.52982958784732\n",
            " 2.600000000000001  5.79843017876862\n",
            " 2.700000000000001  6.06703076968992\n",
            " 2.800000000000001  6.33563136061122\n",
            "2.9000000000000012  6.60423195153252\n",
            "3.0000000000000013  6.87283254245382\n",
            "Length = 26 rows\n"
          ]
        },
        {
          "output_type": "execute_result",
          "data": {
            "text/plain": [
              "(<Table length=26>\n",
              "        FoS           USA w/h ratio  \n",
              "      float64             object     \n",
              " ------------------ -----------------\n",
              "                0.5 0.157817769421315\n",
              "                0.6 0.426418360342615\n",
              "                0.7 0.695018951263915\n",
              " 0.7999999999999999 0.963619542185215\n",
              " 0.8999999999999999  1.23222013310652\n",
              " 0.9999999999999999  1.50082072402782\n",
              " 1.0999999999999999  1.76942131494912\n",
              "                1.2  2.03802190587042\n",
              "                1.3  2.30662249679172\n",
              " 1.4000000000000001  2.57522308771302\n",
              "                ...               ...\n",
              " 2.1000000000000005  4.45542722416212\n",
              " 2.2000000000000006  4.72402781508342\n",
              " 2.3000000000000007  4.99262840600472\n",
              "  2.400000000000001  5.26122899692602\n",
              "  2.500000000000001  5.52982958784732\n",
              "  2.600000000000001  5.79843017876862\n",
              "  2.700000000000001  6.06703076968992\n",
              "  2.800000000000001  6.33563136061122\n",
              " 2.9000000000000012  6.60423195153252\n",
              " 3.0000000000000013  6.87283254245382,\n",
              " array([0.5, 0.6, 0.7, 0.8, 0.9, 1. , 1.1, 1.2, 1.3, 1.4, 1.5, 1.6, 1.7,\n",
              "        1.8, 1.9, 2. , 2.1, 2.2, 2.3, 2.4, 2.5, 2.6, 2.7, 2.8, 2.9, 3. ]),\n",
              " array([0.157817769421315, 0.426418360342615, 0.695018951263915,\n",
              "        0.963619542185215, 1.23222013310652, 1.50082072402782,\n",
              "        1.76942131494912, 2.03802190587042, 2.30662249679172,\n",
              "        2.57522308771302, 2.84382367863432, 3.11242426955562,\n",
              "        3.38102486047692, 3.64962545139822, 3.91822604231952,\n",
              "        4.18682663324082, 4.45542722416212, 4.72402781508342,\n",
              "        4.99262840600472, 5.26122899692602, 5.52982958784732,\n",
              "        5.79843017876862, 6.06703076968992, 6.33563136061122,\n",
              "        6.60423195153252, 6.87283254245382], dtype=object))"
            ]
          },
          "metadata": {},
          "execution_count": 27
        },
        {
          "output_type": "display_data",
          "data": {
            "text/plain": [
              "<Figure size 432x288 with 1 Axes>"
            ],
            "image/png": "[encoded data removed]"
          },
          "metadata": {}
        }
      ],
      "source": [
        "P = float(input(\"Pillar Load in MPa (hint : 9) : \"))\n",
        "FoS_max = float(input(\"Maximum FoS Limit (hint : 3) : \"))\n",
        "FoS_min = float(input(\"Minimum FoS Limit (hint : 0.5) : \"))\n",
        "interval = float(input(\"Interval of FoS to calculate (hint : 0.1) : \"))\n",
        "\n",
        "FoS_Range(P=P, FoS_max=FoS_max, FoS_min= FoS_min, interval= interval, formula=[PillarSt_Mark],name= \"USA w/h ratio\")"
      ]
    },
    {
      "cell_type": "code",
      "execution_count": null,
      "metadata": {
        "execution": {
          "iopub.execute_input": "2021-01-31T12:27:03.501973Z",
          "iopub.status.busy": "2021-01-31T12:27:03.501265Z",
          "iopub.status.idle": "2021-01-31T12:27:05.255560Z",
          "shell.execute_reply": "2021-01-31T12:27:05.254857Z"
        },
        "papermill": {
          "duration": 1.771218,
          "end_time": "2021-01-31T12:27:05.255693",
          "exception": false,
          "start_time": "2021-01-31T12:27:03.484475",
          "status": "completed"
        },
        "tags": [],
        "colab": {
          "base_uri": "https://localhost:8080/",
          "height": 659
        },
        "id": "kTy6q61lfhsI",
        "outputId": "1dcdd1d7-b911-4da6-f763-377518c040d8"
      },
      "outputs": [
        {
          "output_type": "stream",
          "name": "stdout",
          "text": [
            "Pillar Load in MPa (hint : 9) : 9\n",
            "Maximum FoS Limit (hint : 3) : 3\n",
            "Minimum FoS Limit (hint : 0.5) : 0.5\n",
            "Interval of FoS to calculate (hint : 0.1) : 0.1\n",
            "Maximum FoS Limit (hint : 6) : 6\n",
            "Minimum FoS Limit (hint : 0.5) : 0.5\n",
            "       FoS           USA w/h ratio  \n",
            "------------------ -----------------\n",
            "               0.7 0.695018951263915\n",
            "0.7999999999999999 0.963619542185215\n",
            "0.8999999999999999  1.23222013310652\n",
            "0.9999999999999999  1.50082072402782\n",
            "1.0999999999999999  1.76942131494912\n",
            "               1.2  2.03802190587042\n",
            "               1.3  2.30662249679172\n",
            "1.4000000000000001  2.57522308771302\n",
            "1.5000000000000002  2.84382367863432\n",
            "1.6000000000000003  3.11242426955562\n",
            "1.7000000000000004  3.38102486047692\n",
            "1.8000000000000005  3.64962545139822\n",
            "1.9000000000000006  3.91822604231952\n",
            "2.0000000000000004  4.18682663324082\n",
            "2.1000000000000005  4.45542722416212\n",
            "2.2000000000000006  4.72402781508342\n",
            "2.3000000000000007  4.99262840600472\n",
            " 2.400000000000001  5.26122899692602\n",
            " 2.500000000000001  5.52982958784732\n",
            " 2.600000000000001  5.79843017876862\n"
          ]
        },
        {
          "output_type": "display_data",
          "data": {
            "text/plain": [
              "<Figure size 432x288 with 1 Axes>"
            ],
            "image/png": "[encoded data removed]"
          },
          "metadata": {}
        }
      ],
      "source": [
        "P = float(input(\"Pillar Load in MPa (hint : 9) : \"))\n",
        "FoS_max = float(input(\"Maximum FoS Limit (hint : 3) : \"))\n",
        "FoS_min = float(input(\"Minimum FoS Limit (hint : 0.5) : \"))\n",
        "interval = float(input(\"Interval of FoS to calculate (hint : 0.1) : \"))\n",
        "wh_max = float(input(\"Maximum FoS Limit (hint : 6) : \"))\n",
        "wh_min = float(input(\"Minimum FoS Limit (hint : 0.5) : \"))\n",
        "\n",
        "a,b,c=FoS_wh_Range(P=P, FoS_max=FoS_max, FoS_min= FoS_min, interval= interval, wh_max=wh_max, wh_min= wh_min, \n",
        "                   formula=[PillarSt_Mark],name= \"USA w/h ratio\")"
      ]
    },
    {
      "cell_type": "code",
      "execution_count": null,
      "metadata": {
        "execution": {
          "iopub.execute_input": "2021-01-31T12:27:05.332065Z",
          "iopub.status.busy": "2021-01-31T12:27:05.326740Z",
          "iopub.status.idle": "2021-01-31T12:27:08.593956Z",
          "shell.execute_reply": "2021-01-31T12:27:08.594565Z"
        },
        "papermill": {
          "duration": 3.323411,
          "end_time": "2021-01-31T12:27:08.594729",
          "exception": false,
          "start_time": "2021-01-31T12:27:05.271318",
          "status": "completed"
        },
        "tags": [],
        "id": "t0voNJEQfhsI",
        "colab": {
          "base_uri": "https://localhost:8080/",
          "height": 587
        },
        "outputId": "3352a7ed-9d6f-46ee-bd6e-aaed08d7e09a"
      },
      "outputs": [
        {
          "output_type": "stream",
          "name": "stdout",
          "text": [
            "Pillar Load in MPa (hint : 9) : 9\n",
            "Maximum FoS Limit (hint : 3) : 3\n",
            "Minimum FoS Limit (hint : 0.5) : 0.5\n",
            "Interval of FoS to calculate (hint : 0.1) : 0.1\n",
            "Maximum FoS Limit (hint : 3) : 3\n",
            "Minimum FoS Limit (hint : 0.5) : 0.5\n",
            "       FoS           AUS w/h ratio  \n",
            "------------------ -----------------\n",
            "               0.6 0.717978561716999\n",
            "               0.7  1.00565275750016\n",
            "0.7999999999999999  1.25310129810814\n",
            "0.8999999999999999  1.47358971182123\n",
            "0.9999999999999999  1.67438249589275\n",
            "1.0999999999999999  1.85997058413909\n",
            "               1.2  2.03336022215367\n",
            "               1.3  2.19668089933741\n",
            "1.4000000000000001  2.35150636589367\n",
            "1.5000000000000002  2.49903869052291\n",
            "1.6000000000000003  2.64022065162171\n",
            "1.7000000000000004  2.77580787623991\n",
            "1.8000000000000005  2.90641705848883\n"
          ]
        },
        {
          "output_type": "display_data",
          "data": {
            "text/plain": [
              "<Figure size 432x288 with 1 Axes>"
            ],
            "image/png": "[encoded data removed]"
          },
          "metadata": {}
        }
      ],
      "source": [
        "P = float(input(\"Pillar Load in MPa (hint : 9) : \"))\n",
        "FoS_max = float(input(\"Maximum FoS Limit (hint : 3) : \"))\n",
        "FoS_min = float(input(\"Minimum FoS Limit (hint : 0.5) : \"))\n",
        "interval = float(input(\"Interval of FoS to calculate (hint : 0.1) : \"))\n",
        "wh_max = float(input(\"Maximum FoS Limit (hint : 3) : \"))\n",
        "wh_min = float(input(\"Minimum FoS Limit (hint : 0.5) : \"))\n",
        "\n",
        "\n",
        "d,e,f=FoS_wh_Range(P=P, FoS_max=FoS_max, FoS_min= FoS_min, interval= interval, wh_max=wh_max, wh_min= wh_min,\n",
        "                   formula=[PillarSt_CSIRO],name= \"AUS w/h ratio\")"
      ]
    },
    {
      "cell_type": "code",
      "execution_count": null,
      "metadata": {
        "execution": {
          "iopub.execute_input": "2021-01-31T12:27:08.631576Z",
          "iopub.status.busy": "2021-01-31T12:27:08.630535Z",
          "iopub.status.idle": "2021-01-31T12:27:09.007369Z",
          "shell.execute_reply": "2021-01-31T12:27:09.006660Z"
        },
        "papermill": {
          "duration": 0.396173,
          "end_time": "2021-01-31T12:27:09.007499",
          "exception": false,
          "start_time": "2021-01-31T12:27:08.611326",
          "status": "completed"
        },
        "tags": [],
        "id": "e3YzMeDsfhsI",
        "colab": {
          "base_uri": "https://localhost:8080/",
          "height": 207
        },
        "outputId": "fd80cdbc-9fd3-4992-8e2c-f1690769fbdb"
      },
      "outputs": [
        {
          "output_type": "display_data",
          "data": {
            "text/plain": [
              "<Figure size 432x288 with 1 Axes>"
            ],
            "image/png": "[encoded data removed]"
          },
          "metadata": {}
        }
      ],
      "source": [
        "plt.plot(b,c,'r^',label='$Mark$')\n",
        "plt.plot(e,f,'b^',label='$CSIRO$')\n",
        "plt.xlabel('FoS')\n",
        "plt.ylabel('w/h Ratio')\n",
        "plt.legend()\n",
        "plt.show()"
      ]
    },
    {
      "cell_type": "code",
      "source": [
        "def roof_bolting(gallery_width,avg_density,RMR,bolts, spacing_max,spacing_min,bolt_type,ran_num):\n",
        "  ran = np.random.random(ran_num)\n",
        "  spacing=[]\n",
        "  for i in range(len(ran)):\n",
        "    interval= ran[i] * (spacing_max - spacing_min)\n",
        "    spacing.append(interval+spacing_min)\n",
        "  spacing=np.asarray(spacing)\n",
        "  roof_load = gallery_width * avg_density* (1.7 - 0.037*RMR + 0.0002*RMR*RMR)\n",
        "  if bolt_type== 'QSC':\n",
        "    load_bearing = 8\n",
        "  FoS = bolts* load_bearing / (roof_load*gallery_width*spacing)\n",
        "  x=np.array(range(0, len(FoS)))\n",
        "  plt.title(\"Factor of Safety\")\n",
        "  plt.xlabel(\"Random Samples Count\")\n",
        "  plt.ylabel(\"FoS\")\n",
        "  #plt.plot(x, FoS, color = \"red\", marker = \"r^\")\n",
        "  plt.style.use('seaborn-darkgrid')\n",
        "  plt.plot(x, FoS,'r^')\n",
        "  #plt.axhline(y=threshold, xmin=FoS.min(), xmax=FoS.max())\n",
        "  #plt.legend()\n",
        "  plt.show()\n",
        "  print(\"Maximum :\",FoS.max())\n",
        "  print(\"Minimum :\",FoS.min())\n",
        "  print(\"Mean :\",FoS.mean())\n",
        "  print(\"50th percentile : \",\n",
        "       np.percentile(FoS, 50))\n",
        "  print(\"25th percentile : \",\n",
        "       np.percentile(FoS, 25))\n",
        "  print(\"75th percentile : \",\n",
        "       np.percentile(FoS, 75))\n",
        "  print(\"97.5 percentile : \",\n",
        "       np.percentile(FoS, 97.5))\n",
        "  print(\"2.5 percentile : \",\n",
        "       np.percentile(FoS, 2.5))\n",
        "\n",
        "gallery_width = float(input(\"Width of Gallery in meter (hint: 4.8) : \"))\n",
        "avg_density = float(input(\"Average Density of roof in Ton/m^3 (hint: 2.16) : \"))\n",
        "RMR = float(input(\"RMR (hint: 52.4) :\"))\n",
        "bolts = float(input(\"Number of bolts in one row (hint: 4) : \"))  \n",
        "spacing_max = float(input(\"Maximum Spacing in between bolts in m (hint: 1.5) : \"))  \n",
        "spacing_min = float(input(\"Minimum Spacing in between bolts in m (hint: 1.2) : \"))  \n",
        "bolt_type = str(input(\"Type of Bolt (hint:'QSC') : \"))\n",
        "ran_num = int(input(\"Number of Random Samples to check (>50): \"))\n",
        "\n",
        "roof_bolting(gallery_width, avg_density, RMR, bolts, spacing_max, spacing_min, bolt_type, ran_num)"
      ],
      "metadata": {
        "id": "0wdfvRwTizuU",
        "colab": {
          "base_uri": "https://localhost:8080/",
          "height": 507
        },
        "outputId": "bd4a065c-d004-4c2c-ce74-e7d97cdae01b"
      },
      "execution_count": null,
      "outputs": [
        {
          "name": "stdout",
          "output_type": "stream",
          "text": [
            "Width of Gallery in meter (hint: 4.8) : 4.8\n",
            "Average Density of roof in Ton/m^3 (hint: 2.16) : 2.16\n",
            "RMR (hint: 52.4) :52.4\n",
            "Number of bolts in one row (hint: 4) : 4\n",
            "Maximum Spacing in between bolts in m (hint: 1.5) : 1.5\n",
            "Minimum Spacing in between bolts in m (hint: 1.2) : 1.2\n",
            "Type of Bolt (hint:'QSC') : QSC\n",
            "Number of Random Samples to check (>50): 300\n"
          ]
        },
        {
          "output_type": "display_data",
          "data": {
            "text/plain": [
              "<Figure size 432x288 with 1 Axes>"
            ],
            "image/png": "[encoded data removed]"
          },
          "metadata": {}
        },
        {
          "output_type": "stream",
          "name": "stdout",
          "text": [
            "Maximum : 1.7261879087936123\n",
            "Minimum : 1.3814859734260314\n",
            "Mean : 1.5348010185514067\n",
            "50th percentile :  1.518750852630515\n",
            "25th percentile :  1.4497649489360462\n",
            "75th percentile :  1.6126311321828006\n",
            "97.5 percentile :  1.716014139506253\n",
            "2.5 percentile :  1.3905463720806346\n"
          ]
        }
      ]
    },
    {
      "cell_type": "code",
      "source": [
        "\n",
        "def lead_distance_time_wasted_saved(lead_distance_old, lead_distance_new, cycle_time,\n",
        "                                    speed_max, speed_min, number_of_rounds, ran_num):\n",
        "  if lead_distance_new>lead_distance_old:\n",
        "    extra_distance = lead_distance_new - lead_distance_old\n",
        "    time = True\n",
        "  else:\n",
        "    extra_distance = lead_distance_old - lead_distance_new\n",
        "    time= False\n",
        "  ran = np.random.random(ran_num)\n",
        "  speed=[]\n",
        "  for i in range(len(ran)):\n",
        "    interval= ran[i] * (speed_max - speed_min)\n",
        "    speed.append(interval+speed_min)\n",
        "  speed=np.asarray(speed)\n",
        "  time_waste= cycle_time* extra_distance/speed\n",
        "  time_waste= time_waste*number_of_rounds\n",
        "  time_waste=time_waste/60\n",
        "  x=np.array(range(0, len(time_waste)))\n",
        "  if time == True:\n",
        "    time1 = 'Plotting Time Wasted'\n",
        "  else:\n",
        "    time1 = 'Plotting Time Saved'\n",
        "  plt.title(time1)\n",
        "  plt.xlabel(\"Random Samples Count\")\n",
        "  plt.ylabel(\"Time (hours)\")\n",
        "  plt.style.use('seaborn-darkgrid')\n",
        "  plt.plot(x, time_waste,'r^')\n",
        "  #plt.legend()\n",
        "  plt.show()\n",
        "  print(\"Maximum :\",time_waste.max())\n",
        "  print(\"Minimum :\",time_waste.min())\n",
        "  print(\"Mean :\",time_waste.mean())\n",
        "  print(\"50th percentile : \",\n",
        "       np.percentile(time_waste, 50))\n",
        "  print(\"25th percentile : \",\n",
        "       np.percentile(time_waste, 25))\n",
        "  print(\"75th percentile : \",\n",
        "       np.percentile(time_waste, 75))\n",
        "  print(\"97.5 percentile : \",\n",
        "       np.percentile(time_waste, 97.5))\n",
        "  print(\"2.5 percentile : \",\n",
        "       np.percentile(time_waste, 2.5))\n",
        "\n",
        "lead_distance_old = float(input(\"Old Lead Distance in meter (hint: 15) : \"))\n",
        "lead_distance_new = float(input(\"New Lead Distance in meter (hint: 30) : \"))\n",
        "cycle_time = float(input(\"Cycle Time = Production per round of blasting /  Bucket Size (hint: 22) :\"))\n",
        "speed_max = float(input(\"Maximum Speed of SDL in m/min (hint: 35) : \"))  \n",
        "speed_min = float(input(\"Minimum Speed of SDL in m/min (hint: 15) : \"))  \n",
        "number_of_rounds = float(input(\"Number of rounds of blasting in one shift (hint: 3) : \"))\n",
        "ran_num = int(input(\"Number of Random Samples to check (>50): \"))\n",
        "\n",
        "lead_distance_time_wasted_saved(lead_distance_old, lead_distance_new, cycle_time,\n",
        "                                    speed_max, speed_min, number_of_rounds, ran_num)"
      ],
      "metadata": {
        "id": "zULSE8ryiz2I",
        "colab": {
          "base_uri": "https://localhost:8080/",
          "height": 493
        },
        "outputId": "b82572b4-ea32-428b-bb99-e7043a214ac5"
      },
      "execution_count": null,
      "outputs": [
        {
          "name": "stdout",
          "output_type": "stream",
          "text": [
            "Old Lead Distance in meter (hint: 15) : 15\n",
            "New Lead Distance in meter (hint: 30) : 30\n",
            "Cycle Time = Production per round of blasting /  Bucket Size (hint: 22) :22\n",
            "Maximum Speed of SDL in m/min (hint: 35) : 35\n",
            "Minimum Speed of SDL in m/min (hint: 15) : 15\n",
            "Number of rounds of blasting in one shift (hint: 3) : 3\n",
            "Number of Random Samples to check (>50): 300\n"
          ]
        },
        {
          "output_type": "display_data",
          "data": {
            "text/plain": [
              "<Figure size 432x288 with 1 Axes>"
            ],
            "image/png": "[encoded data removed]"
          },
          "metadata": {}
        },
        {
          "output_type": "stream",
          "name": "stdout",
          "text": [
            "Maximum : 1.0933185246981318\n",
            "Minimum : 0.4723579000368726\n",
            "Mean : 0.693945688933693\n",
            "50th percentile :  0.6456541574469243\n",
            "25th percentile :  0.5538872975989656\n",
            "75th percentile :  0.8120480845384676\n",
            "97.5 percentile :  1.0712442035588026\n",
            "2.5 percentile :  0.47985530804090615\n"
          ]
        }
      ]
    },
    {
      "cell_type": "code",
      "source": [
        "\n",
        "lead_distance_old = float(input(\"Old Lead Distance in meter (hint: 30) : \"))\n",
        "lead_distance_new = float(input(\"New Lead Distance in meter (hint: 15) : \"))\n",
        "cycle_time = float(input(\"Cycle Time = Production per round of blasting /  Bucket Size (hint: 22) :\"))\n",
        "speed_max = float(input(\"Maximum Speed of SDL in m/min (hint: 35) : \"))  \n",
        "speed_min = float(input(\"Minimum Speed of SDL in m/min (hint: 15) : \"))  \n",
        "number_of_rounds = float(input(\"Number of rounds of blasting in one shift (hint: 3) : \"))\n",
        "ran_num = int(input(\"Number of Random Samples to check (>50): \"))\n",
        "\n",
        "lead_distance_time_wasted_saved(lead_distance_old, lead_distance_new, cycle_time,\n",
        "                                    speed_max, speed_min, number_of_rounds, ran_num)"
      ],
      "metadata": {
        "colab": {
          "base_uri": "https://localhost:8080/",
          "height": 493
        },
        "id": "tNeIvSLRAvNA",
        "outputId": "88e8581c-22d2-4ec2-e8c9-ec601621e5af"
      },
      "execution_count": null,
      "outputs": [
        {
          "name": "stdout",
          "output_type": "stream",
          "text": [
            "Old Lead Distance in meter (hint: 30) : 30\n",
            "New Lead Distance in meter (hint: 15) : 15\n",
            "Cycle Time = Production per round of blasting /  Bucket Size (hint: 22) :22\n",
            "Maximum Speed of SDL in m/min (hint: 35) : 35\n",
            "Minimum Speed of SDL in m/min (hint: 15) : 15\n",
            "Number of rounds of blasting in one shift (hint: 3) : 3\n",
            "Number of Random Samples to check (>50): 300\n"
          ]
        },
        {
          "output_type": "display_data",
          "data": {
            "text/plain": [
              "<Figure size 432x288 with 1 Axes>"
            ],
            "image/png": "[encoded data removed]"
          },
          "metadata": {}
        },
        {
          "output_type": "stream",
          "name": "stdout",
          "text": [
            "Maximum : 1.0984746669312664\n",
            "Minimum : 0.4719203723534447\n",
            "Mean : 0.6944137245138716\n",
            "50th percentile :  0.6436999827350033\n",
            "25th percentile :  0.5497209858533384\n",
            "75th percentile :  0.829746620221798\n",
            "97.5 percentile :  1.059693217122386\n",
            "2.5 percentile :  0.4835163436152147\n"
          ]
        }
      ]
    },
    {
      "cell_type": "code",
      "source": [
        "\n",
        "def BSA_experiment(weight_max, weight_min, height_max, height_min, ran_num):\n",
        "  ran = np.random.random(ran_num)\n",
        "  weight=[]\n",
        "  for i in range(len(ran)):\n",
        "    interval= ran[i] * (weight_max - weight_min)\n",
        "    weight.append(interval+weight_min)\n",
        "  weight=np.asarray(weight)\n",
        "\n",
        "  ran = np.random.random(ran_num)\n",
        "  height=[]\n",
        "  for i in range(len(ran)):\n",
        "    interval= ran[i] * (height_max - height_min)\n",
        "    height.append(interval+height_min)\n",
        "  height=np.asarray(height)\n",
        "  BSA = 0.007184 * (np.power(weight,0.425)) * (np.power(height,0.725))\n",
        "  #print(BSA)\n",
        "  x=np.array(range(0, len(BSA)))\n",
        "  plt.title(\"BSA\")\n",
        "  plt.xlabel(\"Random Samples Count\")\n",
        "  plt.ylabel(\"BSA (sq. m)\")\n",
        "  plt.style.use('seaborn-darkgrid')\n",
        "  plt.plot(x, BSA,'r^')\n",
        "  #plt.legend()\n",
        "  plt.show()\n",
        "  print(\"Maximum :\",BSA.max())\n",
        "  print(\"Minimum :\",BSA.min())\n",
        "  print(\"Mean :\",BSA.mean())\n",
        "  print(\"50th percentile : \",\n",
        "       np.percentile(BSA, 50))\n",
        "  print(\"25th percentile : \",\n",
        "       np.percentile(BSA, 25))\n",
        "  print(\"75th percentile : \",\n",
        "       np.percentile(BSA, 75))\n",
        "  print(\"97.5 percentile : \",\n",
        "       np.percentile(BSA, 97.5))\n",
        "  print(\"2.5 percentile : \",\n",
        "       np.percentile(BSA, 2.5))\n",
        "  \n",
        "weight_max = float(input(\"Maximum Weight in kg (hint: 90) : \"))\n",
        "weight_min = float(input(\"Minimum Weight in kg (hint: 55) : \"))\n",
        "height_max = float(input(\"Maximum Height in cm (hint: 180) :\"))\n",
        "height_min = float(input(\"Minimum Height in cm (hint: 150) : \"))\n",
        "ran_num = int(input(\"Number of Random Samples to check (>50): \"))\n",
        "\n",
        "BSA = BSA_experiment(weight_max, weight_min, height_max, height_min, ran_num)"
      ],
      "metadata": {
        "id": "80jFRxt0lSds",
        "colab": {
          "base_uri": "https://localhost:8080/",
          "height": 458
        },
        "outputId": "243dcd21-7126-4513-c10a-60b1d45ef230"
      },
      "execution_count": null,
      "outputs": [
        {
          "name": "stdout",
          "output_type": "stream",
          "text": [
            "Maximum Weight in kg (hint: 90) : 90\n",
            "Minimum Weight in kg (hint: 55) : 55\n",
            "Maximum Height in cm (hint: 180) :180\n",
            "Minimum Height in cm (hint: 150) : 150\n",
            "Number of Random Samples to check (>50): 300\n"
          ]
        },
        {
          "output_type": "display_data",
          "data": {
            "text/plain": [
              "<Figure size 432x288 with 1 Axes>"
            ],
            "image/png": "[encoded data removed]"
          },
          "metadata": {}
        },
        {
          "output_type": "stream",
          "name": "stdout",
          "text": [
            "Maximum : 2.066645379402821\n",
            "Minimum : 1.540443117304414\n",
            "Mean : 1.799367393470316\n",
            "50th percentile :  1.8072048307321364\n",
            "25th percentile :  1.7023849328253544\n",
            "75th percentile :  1.8840201899228446\n",
            "97.5 percentile :  2.029090385480339\n",
            "2.5 percentile :  1.5621021046198635\n"
          ]
        }
      ]
    }
  ],
  "metadata": {
    "kernelspec": {
      "display_name": "Python 3",
      "language": "python",
      "name": "python3"
    },
    "language_info": {
      "codemirror_mode": {
        "name": "ipython",
        "version": 3
      },
      "file_extension": ".py",
      "mimetype": "text/x-python",
      "name": "python",
      "nbconvert_exporter": "python",
      "pygments_lexer": "ipython3",
      "version": "3.7.6"
    },
    "papermill": {
      "duration": 15.211442,
      "end_time": "2021-01-31T12:27:09.133471",
      "environment_variables": {},
      "exception": null,
      "input_path": "__notebook__.ipynb",
      "output_path": "__notebook__.ipynb",
      "parameters": {},
      "start_time": "2021-01-31T12:26:53.922029",
      "version": "2.1.0"
    },
    "colab": {
      "name": "PillarPy.ipynb",
      "provenance": [],
      "collapsed_sections": []
    }
  },
  "nbformat": 4,
  "nbformat_minor": 0
}
