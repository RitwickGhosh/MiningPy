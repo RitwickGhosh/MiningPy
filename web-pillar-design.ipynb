{
 "cells": [
  {
   "cell_type": "code",
   "execution_count": 1,
   "metadata": {
    "execution": {
     "iopub.execute_input": "2021-01-31T12:26:58.915805Z",
     "iopub.status.busy": "2021-01-31T12:26:58.913288Z",
     "iopub.status.idle": "2021-01-31T12:27:00.667544Z",
     "shell.execute_reply": "2021-01-31T12:27:00.666882Z"
    },
    "papermill": {
     "duration": 1.767077,
     "end_time": "2021-01-31T12:27:00.667684",
     "exception": false,
     "start_time": "2021-01-31T12:26:58.900607",
     "status": "completed"
    },
    "tags": []
   },
   "outputs": [],
   "source": [
    "import numpy as np\n",
    "from sympy import symbols, solve\n",
    "import matplotlib.pyplot as plt\n",
    "from astropy.table import Table\n",
    "plt.style.use('seaborn-darkgrid')"
   ]
  },
  {
   "cell_type": "code",
   "execution_count": 2,
   "metadata": {
    "execution": {
     "iopub.execute_input": "2021-01-31T12:27:00.692963Z",
     "iopub.status.busy": "2021-01-31T12:27:00.691987Z",
     "iopub.status.idle": "2021-01-31T12:27:00.695646Z",
     "shell.execute_reply": "2021-01-31T12:27:00.694932Z"
    },
    "papermill": {
     "duration": 0.018733,
     "end_time": "2021-01-31T12:27:00.695760",
     "exception": false,
     "start_time": "2021-01-31T12:27:00.677027",
     "status": "completed"
    },
    "tags": []
   },
   "outputs": [],
   "source": [
    "Pillar_Load = lambda C,H,W,Wc : C*H*(W+Wc)/W\n",
    "PillarSt_Mark = lambda wh : 6.205*(0.64+(0.54*wh))\n",
    "PillarSt_CSIRO = lambda wh : 6*(0.64+0.36*(0.69+0.44*wh)*wh)\n"
   ]
  },
  {
   "cell_type": "code",
   "execution_count": 3,
   "metadata": {
    "execution": {
     "iopub.execute_input": "2021-01-31T12:27:00.723572Z",
     "iopub.status.busy": "2021-01-31T12:27:00.722472Z",
     "iopub.status.idle": "2021-01-31T12:27:00.735036Z",
     "shell.execute_reply": "2021-01-31T12:27:00.734447Z"
    },
    "papermill": {
     "duration": 0.030409,
     "end_time": "2021-01-31T12:27:00.735161",
     "exception": false,
     "start_time": "2021-01-31T12:27:00.704752",
     "status": "completed"
    },
    "tags": []
   },
   "outputs": [],
   "source": [
    "def Pillar_Strength(wh, formula =[], name =[]):\n",
    "    S=[]\n",
    "    i=0\n",
    "    while (i<len(formula)):\n",
    "        s= formula[i](wh)\n",
    "        S.append(s)\n",
    "        print (\"Pillar Strength for\", name[i],\":\",s)\n",
    "        i=i+1\n",
    "    return S;\n",
    "\n",
    "def FoS(P,wh,formula=[],name=[]):\n",
    "    S = Pillar_Strength(wh, formula, name)\n",
    "    FoS=[]\n",
    "    i=0\n",
    "    while (i<len(formula)):\n",
    "        f = S[i]/P\n",
    "        FoS.append(f)\n",
    "        print (\"FoS for\", name[i],\":\",f)\n",
    "        i=i+1\n",
    "    return FoS,S,name;\n",
    "\n",
    "def wh(P,FoS,formula=[],name=[]):\n",
    "    S= P*FoS\n",
    "    w =symbols('w')\n",
    "    wh=[]\n",
    "    i=0\n",
    "    while (i<len(formula)):\n",
    "        sn=solve (formula[i](w)-S,w)\n",
    "        def largest(a,n):\n",
    "            max=a[0]\n",
    "            for i in range(1,n):\n",
    "                if a[i]>max:\n",
    "                    max = a[i]\n",
    "            return max;\n",
    "        n=len(sn)\n",
    "        sol = largest(sn,n)\n",
    "        wh.append(sol)\n",
    "        print (\"w/h ratio for\", name[i],\":\",sol)\n",
    "        i=i+1\n",
    "    return FoS,S,name;"
   ]
  },
  {
   "cell_type": "code",
   "execution_count": 4,
   "metadata": {
    "execution": {
     "iopub.execute_input": "2021-01-31T12:27:00.770759Z",
     "iopub.status.busy": "2021-01-31T12:27:00.769791Z",
     "iopub.status.idle": "2021-01-31T12:27:00.773502Z",
     "shell.execute_reply": "2021-01-31T12:27:00.772739Z"
    },
    "papermill": {
     "duration": 0.029245,
     "end_time": "2021-01-31T12:27:00.773641",
     "exception": false,
     "start_time": "2021-01-31T12:27:00.744396",
     "status": "completed"
    },
    "tags": []
   },
   "outputs": [],
   "source": [
    "\n",
    "def FoS_Range(P,FoS_max, FoS_min, interval,formula,name):\n",
    "    n = (FoS_max-FoS_min)/interval\n",
    "    a =FoS_min\n",
    "    F=[FoS_min]\n",
    "    i=0\n",
    "    while(i<n):\n",
    "        a= a+interval\n",
    "        F.append(a)\n",
    "        i=i+1\n",
    "    S=[]\n",
    "    i=0\n",
    "    while(i<n+1):\n",
    "        b=P*F[i]\n",
    "        S.append(b)\n",
    "        i=i+1\n",
    "    wh =[]\n",
    "    w =symbols('w')\n",
    "    i=0\n",
    "    while(i<(n+1)):\n",
    "        sni=solve (formula[0](w)-S[i],w)\n",
    "        def largest(a,ni):\n",
    "            max=a[0]\n",
    "            for y in range(0,ni):\n",
    "                if a[y]>max:\n",
    "                    max = a[y]\n",
    "            return max;\n",
    "        ni=len(sni)\n",
    "        sol = largest(sni,ni)\n",
    "        wh.append(sol)\n",
    "        i=i+1\n",
    "    wh=np.asarray(wh)\n",
    "    F=np.asarray(F)\n",
    "    wh.astype(int)\n",
    "    F.astype(int)\n",
    "    plt.style.use('seaborn-darkgrid')\n",
    "    #plt.figure(figsize=())\n",
    "    plt.plot(F,wh,'r^')\n",
    "    plt.xlabel(\"FoS\")\n",
    "    plt.ylabel(name)\n",
    "    t = Table([F,wh],names=('FoS',name))\n",
    "    print(t)\n",
    "    return t,F,wh;\n"
   ]
  },
  {
   "cell_type": "code",
   "execution_count": 5,
   "metadata": {
    "execution": {
     "iopub.execute_input": "2021-01-31T12:27:00.803689Z",
     "iopub.status.busy": "2021-01-31T12:27:00.802995Z",
     "iopub.status.idle": "2021-01-31T12:27:00.811880Z",
     "shell.execute_reply": "2021-01-31T12:27:00.812345Z"
    },
    "papermill": {
     "duration": 0.029476,
     "end_time": "2021-01-31T12:27:00.812503",
     "exception": false,
     "start_time": "2021-01-31T12:27:00.783027",
     "status": "completed"
    },
    "tags": []
   },
   "outputs": [],
   "source": [
    "def FoS_wh_Range(P,FoS_max, FoS_min, interval,wh_max,wh_min,formula,name):\n",
    "    n = (FoS_max-FoS_min)/interval\n",
    "    a =FoS_min\n",
    "    F=[FoS_min]\n",
    "    i=0\n",
    "    while(i<n):\n",
    "        a= a+interval\n",
    "        F.append(a)\n",
    "        i=i+1\n",
    "    S=[]\n",
    "    i=0\n",
    "    while(i<n+1):\n",
    "        b=P*F[i]\n",
    "        S.append(b)\n",
    "        i=i+1\n",
    "    wh =[]\n",
    "    w =symbols('w')\n",
    "    i=0\n",
    "    while(i<(n+1)):\n",
    "        sni=solve (formula[0](w)-S[i],w)\n",
    "        def largest(a,ni):\n",
    "            max=a[0]\n",
    "            for y in range(0,ni):\n",
    "                if a[y]>max:\n",
    "                    max = a[y]\n",
    "            return max;\n",
    "        ni=len(sni)\n",
    "        sol = largest(sni,ni)\n",
    "        wh.append(sol)\n",
    "        i=i+1\n",
    "    wh=np.asarray(wh)\n",
    "    F=np.asarray(F)\n",
    "    wh.astype(int)\n",
    "    F.astype(int)\n",
    "    w=np.delete(wh,np.argwhere(wh>=wh_max))\n",
    "    F1=np.delete(F,np.argwhere(wh>=wh_max))\n",
    "    w=np.delete(w,np.argwhere(wh<=wh_min))\n",
    "    F=np.delete(F1,np.argwhere(wh<=wh_min))\n",
    "    plt.style.use('seaborn-darkgrid')\n",
    "    #plt.figure(figsize=())\n",
    "    plt.plot(F,w,'r^')\n",
    "    plt.xlabel(\"FoS\")\n",
    "    plt.ylabel(name)\n",
    "    t = Table([F,w],names=('FoS',name))\n",
    "    print(t)\n",
    "    return t,F,w;"
   ]
  },
  {
   "cell_type": "code",
   "execution_count": 6,
   "metadata": {
    "execution": {
     "iopub.execute_input": "2021-01-31T12:27:00.835409Z",
     "iopub.status.busy": "2021-01-31T12:27:00.834366Z",
     "iopub.status.idle": "2021-01-31T12:27:00.844866Z",
     "shell.execute_reply": "2021-01-31T12:27:00.845366Z"
    },
    "papermill": {
     "duration": 0.023473,
     "end_time": "2021-01-31T12:27:00.845502",
     "exception": false,
     "start_time": "2021-01-31T12:27:00.822029",
     "status": "completed"
    },
    "tags": []
   },
   "outputs": [
    {
     "name": "stdout",
     "output_type": "stream",
     "text": [
      "Pillar Strength for USA : 10.672600000000001\n",
      "Pillar Strength for AUS : 10.622399999999999\n"
     ]
    },
    {
     "data": {
      "text/plain": [
       "[10.672600000000001, 10.622399999999999]"
      ]
     },
     "execution_count": 6,
     "metadata": {},
     "output_type": "execute_result"
    }
   ],
   "source": [
    "Pillar_Strength(wh=2,formula=[PillarSt_Mark,PillarSt_CSIRO], name =[\"USA\",\"AUS\"])"
   ]
  },
  {
   "cell_type": "code",
   "execution_count": 7,
   "metadata": {
    "execution": {
     "iopub.execute_input": "2021-01-31T12:27:00.870416Z",
     "iopub.status.busy": "2021-01-31T12:27:00.869402Z",
     "iopub.status.idle": "2021-01-31T12:27:00.879488Z",
     "shell.execute_reply": "2021-01-31T12:27:00.880231Z"
    },
    "papermill": {
     "duration": 0.024411,
     "end_time": "2021-01-31T12:27:00.880421",
     "exception": false,
     "start_time": "2021-01-31T12:27:00.856010",
     "status": "completed"
    },
    "tags": []
   },
   "outputs": [
    {
     "name": "stdout",
     "output_type": "stream",
     "text": [
      "Pillar Strength for USA : 10.672600000000001\n",
      "Pillar Strength for AUS : 10.622399999999999\n",
      "FoS for USA : 1.1858444444444445\n",
      "FoS for AUS : 1.1802666666666666\n"
     ]
    },
    {
     "data": {
      "text/plain": [
       "([1.1858444444444445, 1.1802666666666666],\n",
       " [10.672600000000001, 10.622399999999999],\n",
       " ['USA', 'AUS'])"
      ]
     },
     "execution_count": 7,
     "metadata": {},
     "output_type": "execute_result"
    }
   ],
   "source": [
    "FoS(P=9,wh=2,formula=[PillarSt_Mark,PillarSt_CSIRO], name =[\"USA\",\"AUS\"])"
   ]
  },
  {
   "cell_type": "code",
   "execution_count": 8,
   "metadata": {
    "execution": {
     "iopub.execute_input": "2021-01-31T12:27:00.906260Z",
     "iopub.status.busy": "2021-01-31T12:27:00.905658Z",
     "iopub.status.idle": "2021-01-31T12:27:01.553373Z",
     "shell.execute_reply": "2021-01-31T12:27:01.552812Z"
    },
    "papermill": {
     "duration": 0.661485,
     "end_time": "2021-01-31T12:27:01.553495",
     "exception": false,
     "start_time": "2021-01-31T12:27:00.892010",
     "status": "completed"
    },
    "tags": []
   },
   "outputs": [
    {
     "name": "stdout",
     "output_type": "stream",
     "text": [
      "w/h ratio for USA : 2.03802190587042\n",
      "w/h ratio for AUS : 2.03336022215367\n"
     ]
    },
    {
     "data": {
      "text/plain": [
       "(1.2, 10.799999999999999, ['USA', 'AUS'])"
      ]
     },
     "execution_count": 8,
     "metadata": {},
     "output_type": "execute_result"
    }
   ],
   "source": [
    "wh(P=9,FoS=1.2,formula=[PillarSt_Mark,PillarSt_CSIRO], name =[\"USA\",\"AUS\"])"
   ]
  },
  {
   "cell_type": "code",
   "execution_count": 9,
   "metadata": {
    "execution": {
     "iopub.execute_input": "2021-01-31T12:27:01.619062Z",
     "iopub.status.busy": "2021-01-31T12:27:01.614005Z",
     "iopub.status.idle": "2021-01-31T12:27:03.469848Z",
     "shell.execute_reply": "2021-01-31T12:27:03.470314Z"
    },
    "papermill": {
     "duration": 1.903965,
     "end_time": "2021-01-31T12:27:03.470479",
     "exception": false,
     "start_time": "2021-01-31T12:27:01.566514",
     "status": "completed"
    },
    "tags": []
   },
   "outputs": [
    {
     "name": "stdout",
     "output_type": "stream",
     "text": [
      "       FoS           USA w/h ratio  \n",
      "------------------ -----------------\n",
      "               0.5 0.157817769421315\n",
      "               0.6 0.426418360342615\n",
      "               0.7 0.695018951263915\n",
      "0.7999999999999999 0.963619542185215\n",
      "0.8999999999999999  1.23222013310652\n",
      "0.9999999999999999  1.50082072402782\n",
      "1.0999999999999999  1.76942131494912\n",
      "               1.2  2.03802190587042\n",
      "               1.3  2.30662249679172\n",
      "1.4000000000000001  2.57522308771302\n",
      "               ...               ...\n",
      "2.0000000000000004  4.18682663324082\n",
      "2.1000000000000005  4.45542722416212\n",
      "2.2000000000000006  4.72402781508342\n",
      "2.3000000000000007  4.99262840600472\n",
      " 2.400000000000001  5.26122899692602\n",
      " 2.500000000000001  5.52982958784732\n",
      " 2.600000000000001  5.79843017876862\n",
      " 2.700000000000001  6.06703076968992\n",
      " 2.800000000000001  6.33563136061122\n",
      "2.9000000000000012  6.60423195153252\n",
      "3.0000000000000013  6.87283254245382\n",
      "Length = 26 rows\n"
     ]
    },
    {
     "data": {
      "text/plain": [
       "(<Table length=26>\n",
       "        FoS           USA w/h ratio  \n",
       "      float64             object     \n",
       " ------------------ -----------------\n",
       "                0.5 0.157817769421315\n",
       "                0.6 0.426418360342615\n",
       "                0.7 0.695018951263915\n",
       " 0.7999999999999999 0.963619542185215\n",
       " 0.8999999999999999  1.23222013310652\n",
       " 0.9999999999999999  1.50082072402782\n",
       " 1.0999999999999999  1.76942131494912\n",
       "                1.2  2.03802190587042\n",
       "                1.3  2.30662249679172\n",
       " 1.4000000000000001  2.57522308771302\n",
       "                ...               ...\n",
       " 2.1000000000000005  4.45542722416212\n",
       " 2.2000000000000006  4.72402781508342\n",
       " 2.3000000000000007  4.99262840600472\n",
       "  2.400000000000001  5.26122899692602\n",
       "  2.500000000000001  5.52982958784732\n",
       "  2.600000000000001  5.79843017876862\n",
       "  2.700000000000001  6.06703076968992\n",
       "  2.800000000000001  6.33563136061122\n",
       " 2.9000000000000012  6.60423195153252\n",
       " 3.0000000000000013  6.87283254245382,\n",
       " array([0.5, 0.6, 0.7, 0.8, 0.9, 1. , 1.1, 1.2, 1.3, 1.4, 1.5, 1.6, 1.7,\n",
       "        1.8, 1.9, 2. , 2.1, 2.2, 2.3, 2.4, 2.5, 2.6, 2.7, 2.8, 2.9, 3. ]),\n",
       " array([0.157817769421315, 0.426418360342615, 0.695018951263915,\n",
       "        0.963619542185215, 1.23222013310652, 1.50082072402782,\n",
       "        1.76942131494912, 2.03802190587042, 2.30662249679172,\n",
       "        2.57522308771302, 2.84382367863432, 3.11242426955562,\n",
       "        3.38102486047692, 3.64962545139822, 3.91822604231952,\n",
       "        4.18682663324082, 4.45542722416212, 4.72402781508342,\n",
       "        4.99262840600472, 5.26122899692602, 5.52982958784732,\n",
       "        5.79843017876862, 6.06703076968992, 6.33563136061122,\n",
       "        6.60423195153252, 6.87283254245382], dtype=object))"
      ]
     },
     "execution_count": 9,
     "metadata": {},
     "output_type": "execute_result"
    },
    {
     "data": {
      "image/png": "[encoded data removed]",
      "text/plain": [
       "<Figure size 432x288 with 1 Axes>"
      ]
     },
     "metadata": {},
     "output_type": "display_data"
    }
   ],
   "source": [
    "FoS_Range(P=9,FoS_max=3,FoS_min= 0.5, interval= 0.1,formula=[PillarSt_Mark],name= \"USA w/h ratio\")"
   ]
  },
  {
   "cell_type": "code",
   "execution_count": 10,
   "metadata": {
    "execution": {
     "iopub.execute_input": "2021-01-31T12:27:03.501973Z",
     "iopub.status.busy": "2021-01-31T12:27:03.501265Z",
     "iopub.status.idle": "2021-01-31T12:27:05.255560Z",
     "shell.execute_reply": "2021-01-31T12:27:05.254857Z"
    },
    "papermill": {
     "duration": 1.771218,
     "end_time": "2021-01-31T12:27:05.255693",
     "exception": false,
     "start_time": "2021-01-31T12:27:03.484475",
     "status": "completed"
    },
    "tags": []
   },
   "outputs": [
    {
     "name": "stdout",
     "output_type": "stream",
     "text": [
      "       FoS           USA w/h ratio  \n",
      "------------------ -----------------\n",
      "               0.7 0.695018951263915\n",
      "0.7999999999999999 0.963619542185215\n",
      "0.8999999999999999  1.23222013310652\n",
      "0.9999999999999999  1.50082072402782\n",
      "1.0999999999999999  1.76942131494912\n",
      "               1.2  2.03802190587042\n",
      "               1.3  2.30662249679172\n",
      "1.4000000000000001  2.57522308771302\n",
      "1.5000000000000002  2.84382367863432\n",
      "1.6000000000000003  3.11242426955562\n",
      "1.7000000000000004  3.38102486047692\n",
      "1.8000000000000005  3.64962545139822\n",
      "1.9000000000000006  3.91822604231952\n",
      "2.0000000000000004  4.18682663324082\n",
      "2.1000000000000005  4.45542722416212\n",
      "2.2000000000000006  4.72402781508342\n",
      "2.3000000000000007  4.99262840600472\n",
      " 2.400000000000001  5.26122899692602\n",
      " 2.500000000000001  5.52982958784732\n",
      " 2.600000000000001  5.79843017876862\n"
     ]
    },
    {
     "data": {
      "image/png": "[encoded data removed]",
      "text/plain": [
       "<Figure size 432x288 with 1 Axes>"
      ]
     },
     "metadata": {},
     "output_type": "display_data"
    }
   ],
   "source": [
    "a,b,c=FoS_wh_Range(P=9,FoS_max=3, FoS_min=0.5, interval=0.1,wh_max=6,wh_min=0.5,formula=[PillarSt_Mark],name= \"USA w/h ratio\")"
   ]
  },
  {
   "cell_type": "code",
   "execution_count": 11,
   "metadata": {
    "execution": {
     "iopub.execute_input": "2021-01-31T12:27:05.332065Z",
     "iopub.status.busy": "2021-01-31T12:27:05.326740Z",
     "iopub.status.idle": "2021-01-31T12:27:08.593956Z",
     "shell.execute_reply": "2021-01-31T12:27:08.594565Z"
    },
    "papermill": {
     "duration": 3.323411,
     "end_time": "2021-01-31T12:27:08.594729",
     "exception": false,
     "start_time": "2021-01-31T12:27:05.271318",
     "status": "completed"
    },
    "tags": []
   },
   "outputs": [
    {
     "name": "stdout",
     "output_type": "stream",
     "text": [
      "       FoS           AUS w/h ratio  \n",
      "------------------ -----------------\n",
      "               0.6 0.717978561716999\n",
      "               0.7  1.00565275750016\n",
      "0.7999999999999999  1.25310129810814\n",
      "0.8999999999999999  1.47358971182123\n",
      "0.9999999999999999  1.67438249589275\n",
      "1.0999999999999999  1.85997058413909\n",
      "               1.2  2.03336022215367\n",
      "               1.3  2.19668089933741\n",
      "1.4000000000000001  2.35150636589367\n",
      "1.5000000000000002  2.49903869052291\n",
      "1.6000000000000003  2.64022065162171\n",
      "1.7000000000000004  2.77580787623991\n",
      "1.8000000000000005  2.90641705848883\n"
     ]
    },
    {
     "data": {
      "image/png": "[encoded data removed]",
      "text/plain": [
       "<Figure size 432x288 with 1 Axes>"
      ]
     },
     "metadata": {},
     "output_type": "display_data"
    }
   ],
   "source": [
    "d,e,f=FoS_wh_Range(P=9,FoS_max=3, FoS_min=0.5, interval=0.1,wh_max=3,wh_min=0.5,formula=[PillarSt_CSIRO],name= \"AUS w/h ratio\")"
   ]
  },
  {
   "cell_type": "code",
   "execution_count": 12,
   "metadata": {
    "execution": {
     "iopub.execute_input": "2021-01-31T12:27:08.631576Z",
     "iopub.status.busy": "2021-01-31T12:27:08.630535Z",
     "iopub.status.idle": "2021-01-31T12:27:09.007369Z",
     "shell.execute_reply": "2021-01-31T12:27:09.006660Z"
    },
    "papermill": {
     "duration": 0.396173,
     "end_time": "2021-01-31T12:27:09.007499",
     "exception": false,
     "start_time": "2021-01-31T12:27:08.611326",
     "status": "completed"
    },
    "tags": []
   },
   "outputs": [
    {
     "data": {
      "image/png": "[encoded data removed]",
      "text/plain": [
       "<Figure size 432x288 with 1 Axes>"
      ]
     },
     "metadata": {},
     "output_type": "display_data"
    }
   ],
   "source": [
    "plt.plot(b,c,'r^',label='$Mark$')\n",
    "plt.plot(e,f,'b^',label='$CSIRO$')\n",
    "plt.xlabel('FoS')\n",
    "plt.ylabel('w/h Ratio')\n",
    "plt.legend()\n",
    "plt.show()"
   ]
  }
 ],
 "metadata": {
  "kernelspec": {
   "display_name": "Python 3",
   "language": "python",
   "name": "python3"
  },
  "language_info": {
   "codemirror_mode": {
    "name": "ipython",
    "version": 3
   },
   "file_extension": ".py",
   "mimetype": "text/x-python",
   "name": "python",
   "nbconvert_exporter": "python",
   "pygments_lexer": "ipython3",
   "version": "3.7.6"
  },
  "papermill": {
   "duration": 15.211442,
   "end_time": "2021-01-31T12:27:09.133471",
   "environment_variables": {},
   "exception": null,
   "input_path": "__notebook__.ipynb",
   "output_path": "__notebook__.ipynb",
   "parameters": {},
   "start_time": "2021-01-31T12:26:53.922029",
   "version": "2.1.0"
  }
 },
 "nbformat": 4,
 "nbformat_minor": 4
}
